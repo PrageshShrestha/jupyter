{
 "cells": [
  {
   "cell_type": "code",
   "execution_count": 1,
   "id": "d4b35631-9806-47a5-8661-830b0c269a05",
   "metadata": {},
   "outputs": [
    {
     "ename": "SyntaxError",
     "evalue": "invalid syntax (460954898.py, line 9)",
     "output_type": "error",
     "traceback": [
      "\u001b[1;36m  Cell \u001b[1;32mIn[1], line 9\u001b[1;36m\u001b[0m\n\u001b[1;33m    x = pdf.drop[] #dropping not important fields or columns\u001b[0m\n\u001b[1;37m                 ^\u001b[0m\n\u001b[1;31mSyntaxError\u001b[0m\u001b[1;31m:\u001b[0m invalid syntax\n"
     ]
    }
   ],
   "source": [
    "import tensorflow as tf \n",
    "from tf.keras.models import Sequential \n",
    "from tf.keras.models.layers import Dense,LSTM \n",
    "from sklearn.model_selection import train_test_split\n",
    "import numpy as np \n",
    "import pandas as pd \n",
    "# to save pdf\n",
    "pdf = pd.read_csv(\"somefile.csv\")\n",
    "x = pdf.drop[] #dropping not important fields or columns \n",
    "y = pdf[\"dental illness column\"]# result to be predict \n",
    "x_train , y_train , x_text , y_test = train_test_split(x , y , test_size = 0.2)\n",
    "# for making model \n",
    "making_classes = 0\n",
    "model = Sequential([\n",
    "    Dense(shape=(a,b) , activation = \"sigmoid\" , name=\"input_layer\"),#columns by no. of columns (6,100) or (6,) will also work if no of rows are not defined \n",
    "    Dense(64 , activation = \"sigmoid\" , name=\"hidden_layer1\"),\n",
    "    # if needed for more accuracy but above code will also work fine , Dense(64 ,activation = \"sigmoid\" , name=\"hidden_layer2\"),\n",
    "    Dense(1 , name = \"output\"),\n",
    "])\n",
    "\n",
    "model.compile(optimizer = \"adam\" , loss_function = \"binary_crossentropy\" , metrics = [\"accuracy\"])\n",
    "model.fit(x_train , y_train,epochs = 1000)\n",
    "output = model.predict(x_test)\n",
    "print(f\"The model outputs are : {output}\")\n",
    "print(f\"The actual outputs are  : {y_test}\")\n",
    "\n",
    "\n",
    "    "
   ]
  },
  {
   "cell_type": "code",
   "execution_count": null,
   "id": "be4ae361-53fa-430e-b05e-73e4686356ef",
   "metadata": {},
   "outputs": [],
   "source": []
  }
 ],
 "metadata": {
  "kernelspec": {
   "display_name": "Python 3 (ipykernel)",
   "language": "python",
   "name": "python3"
  },
  "language_info": {
   "codemirror_mode": {
    "name": "ipython",
    "version": 3
   },
   "file_extension": ".py",
   "mimetype": "text/x-python",
   "name": "python",
   "nbconvert_exporter": "python",
   "pygments_lexer": "ipython3",
   "version": "3.10.2"
  }
 },
 "nbformat": 4,
 "nbformat_minor": 5
}
